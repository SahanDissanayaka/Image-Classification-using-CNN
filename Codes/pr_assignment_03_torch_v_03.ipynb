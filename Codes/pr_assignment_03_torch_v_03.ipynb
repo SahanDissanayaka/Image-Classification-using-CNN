{
  "cells": [
    {
      "cell_type": "code",
      "execution_count": 1,
      "metadata": {
        "id": "1ZaTVyeEujsf"
      },
      "outputs": [],
      "source": [
        "dataset_path = './realwaste/realwaste-main/RealWaste'"
      ]
    },
    {
      "cell_type": "code",
      "execution_count": 2,
      "metadata": {
        "id": "WmudDk0gdCe9"
      },
      "outputs": [],
      "source": [
        "import torch\n",
        "from torch.utils.data import DataLoader, Dataset\n",
        "from torchvision import datasets, transforms"
      ]
    },
    {
      "cell_type": "code",
      "execution_count": 3,
      "metadata": {
        "colab": {
          "base_uri": "https://localhost:8080/"
        },
        "id": "LTVjRVWkdDwC",
        "outputId": "7829a112-94d9-486d-8b8a-8087186323a9"
      },
      "outputs": [
        {
          "name": "stdout",
          "output_type": "stream",
          "text": [
            "Classes: ['Cardboard', 'Food Organics', 'Glass', 'Metal', 'Miscellaneous Trash', 'Paper', 'Plastic', 'Textile Trash', 'Vegetation']\n"
          ]
        }
      ],
      "source": [
        "# Define transformations\n",
        "transform = transforms.Compose([\n",
        "    transforms.Resize((128, 128)),  # Resize images to 128x128\n",
        "    transforms.ToTensor(),  # Convert images to PyTorch tensors\n",
        "    transforms.Normalize((0.5, 0.5, 0.5), (0.5, 0.5, 0.5))  # Normalize (mean, std for RGB)\n",
        "])\n",
        "\n",
        "# Load the dataset\n",
        "dataset = datasets.ImageFolder(root=dataset_path, transform=transform)\n",
        "\n",
        "# Split into training and validation datasets\n",
        "train_size = int(0.6 * len(dataset))\n",
        "test_size = int(0.2 * len(dataset))\n",
        "val_size = len(dataset) - train_size - test_size\n",
        "train_dataset, test_dataset, val_dataset = torch.utils.data.random_split(dataset, [train_size, test_size, val_size])\n",
        "\n",
        "# Create DataLoaders\n",
        "train_loader = DataLoader(train_dataset, batch_size=32, shuffle=True)\n",
        "test_loader = DataLoader(test_dataset, batch_size=32, shuffle=False)\n",
        "val_loader = DataLoader(val_dataset, batch_size=32, shuffle=False)\n",
        "\n",
        "# Print class names\n",
        "print(\"Classes:\", dataset.classes)\n"
      ]
    },
    {
      "cell_type": "code",
      "execution_count": 4,
      "metadata": {
        "colab": {
          "base_uri": "https://localhost:8080/"
        },
        "id": "cYIKTM96v88Z",
        "outputId": "7063991f-be3e-484b-c500-2ba10916fc87"
      },
      "outputs": [
        {
          "name": "stdout",
          "output_type": "stream",
          "text": [
            "CustomCNN(\n",
            "  (conv1): Conv2d(3, 32, kernel_size=(3, 3), stride=(1, 1), padding=(1, 1))\n",
            "  (activation1): ReLU()\n",
            "  (pool1): MaxPool2d(kernel_size=2, stride=2, padding=0, dilation=1, ceil_mode=False)\n",
            "  (conv2): Conv2d(32, 64, kernel_size=(3, 3), stride=(1, 1), padding=(1, 1))\n",
            "  (activation2): ReLU()\n",
            "  (pool2): MaxPool2d(kernel_size=2, stride=2, padding=0, dilation=1, ceil_mode=False)\n",
            "  (fc1): Linear(in_features=65536, out_features=128, bias=True)\n",
            "  (activation3): ReLU()\n",
            "  (dropout): Dropout(p=0.5, inplace=False)\n",
            "  (fc2): Linear(in_features=128, out_features=9, bias=True)\n",
            ")\n"
          ]
        }
      ],
      "source": [
        "import torch\n",
        "import torch.nn as nn\n",
        "import torch.nn.functional as F\n",
        "\n",
        "class CustomCNN(nn.Module):\n",
        "    def __init__(self, x1, m1, x2, m2, x3, d, K):\n",
        "        super(CustomCNN, self).__init__()\n",
        "\n",
        "        # First Convolutional Layer\n",
        "        self.conv1 = nn.Conv2d(in_channels=3, out_channels=x1, kernel_size=m1, stride=1, padding=m1 // 2)\n",
        "        self.activation1 = nn.ReLU()  \n",
        "\n",
        "        # MaxPooling Layer 1\n",
        "        self.pool1 = nn.MaxPool2d(kernel_size=2, stride=2)\n",
        "\n",
        "        # Second Convolutional Layer\n",
        "        self.conv2 = nn.Conv2d(in_channels=x1, out_channels=x2, kernel_size=m2, stride=1, padding=m2 // 2)\n",
        "        self.activation2 = nn.ReLU()  \n",
        "\n",
        "        # MaxPooling Layer 2\n",
        "        self.pool2 = nn.MaxPool2d(kernel_size=2, stride=2)\n",
        "\n",
        "        # Fully Connected Layer\n",
        "        self.fc1 = nn.Linear(x2 * (128 // 4) * (128 // 4), x3)  # Adjust dimensions based on input size and pooling\n",
        "        self.activation3 = nn.ReLU()  \n",
        "        self.dropout = nn.Dropout(d)  # Dropout layer\n",
        "\n",
        "        # Output Layer\n",
        "        self.fc2 = nn.Linear(x3, K)\n",
        "\n",
        "    def forward(self, x):\n",
        "        x = self.conv1(x)\n",
        "        x = self.activation1(x)\n",
        "        x = self.pool1(x)\n",
        "\n",
        "        x = self.conv2(x)\n",
        "        x = self.activation2(x)\n",
        "        x = self.pool2(x)\n",
        "\n",
        "        x = torch.flatten(x, 1)  # Flatten the output for the fully connected layer\n",
        "\n",
        "        x = self.fc1(x)\n",
        "        x = self.activation3(x)\n",
        "        x = self.dropout(x)\n",
        "\n",
        "        x = self.fc2(x)\n",
        "        return F.log_softmax(x, dim=1)  # Softmax activation\n",
        "\n",
        "# Define the model parameters\n",
        "x1, m1 = 32, 3  # Filters and kernel size for the first convolutional layer\n",
        "x2, m2 = 64, 3  # Filters and kernel size for the second convolutional layer\n",
        "x3 = 128        # Number of units in the fully connected layer\n",
        "d = 0.5         # Dropout rate\n",
        "K = len(dataset.classes)  # Number of output classes\n",
        "\n",
        "# Instantiate the model\n",
        "model = CustomCNN(x1, m1, x2, m2, x3, d, K)\n",
        "\n",
        "# Print the model architecture\n",
        "print(model)\n"
      ]
    },
    {
      "cell_type": "code",
      "execution_count": 5,
      "metadata": {},
      "outputs": [
        {
          "name": "stdout",
          "output_type": "stream",
          "text": [
            "CUDA available: True\n",
            "CUDA version supported by PyTorch: 11.8\n",
            "Number of GPUs available: 1\n",
            "Current GPU: NVIDIA GeForce GTX 1650\n"
          ]
        }
      ],
      "source": [
        "# Check if CUDA is available\n",
        "cuda_available = torch.cuda.is_available()\n",
        "print(f\"CUDA available: {cuda_available}\")\n",
        "\n",
        "# If CUDA is available, check the PyTorch CUDA version\n",
        "if cuda_available:\n",
        "    print(f\"CUDA version supported by PyTorch: {torch.version.cuda}\")\n",
        "    print(f\"Number of GPUs available: {torch.cuda.device_count()}\")\n",
        "    print(f\"Current GPU: {torch.cuda.get_device_name(0)}\")\n",
        "else:\n",
        "    print(\"CUDA is not available in this PyTorch installation.\")"
      ]
    },
    {
      "cell_type": "code",
      "execution_count": 8,
      "metadata": {
        "colab": {
          "base_uri": "https://localhost:8080/",
          "height": 370
        },
        "id": "WU7VBZ3-yZ8z",
        "outputId": "b316316b-5835-4cfe-a9ea-549aeb417b41"
      },
      "outputs": [
        {
          "name": "stdout",
          "output_type": "stream",
          "text": [
            "Epoch 1/20, Train Loss: 1.9574, Train Accuracy: 30.06% Validation Loss: 1.5337, Validation Accuracy: 45.85%\n",
            "Epoch 2/20, Train Loss: 1.5672, Train Accuracy: 46.55% Validation Loss: 1.4059, Validation Accuracy: 51.63%\n",
            "Epoch 3/20, Train Loss: 1.4251, Train Accuracy: 49.46% Validation Loss: 1.2989, Validation Accuracy: 55.31%\n",
            "Epoch 4/20, Train Loss: 1.3069, Train Accuracy: 53.56% Validation Loss: 1.2036, Validation Accuracy: 57.10%\n",
            "Epoch 5/20, Train Loss: 1.1664, Train Accuracy: 57.87% Validation Loss: 1.1664, Validation Accuracy: 58.46%\n",
            "Epoch 6/20, Train Loss: 1.0608, Train Accuracy: 61.07% Validation Loss: 1.1538, Validation Accuracy: 60.25%\n",
            "Epoch 7/20, Train Loss: 0.9750, Train Accuracy: 63.70% Validation Loss: 1.0205, Validation Accuracy: 64.77%\n",
            "Epoch 8/20, Train Loss: 0.8536, Train Accuracy: 68.15% Validation Loss: 1.0113, Validation Accuracy: 64.04%\n",
            "Epoch 9/20, Train Loss: 0.7210, Train Accuracy: 73.55% Validation Loss: 1.0703, Validation Accuracy: 62.78%\n",
            "Epoch 10/20, Train Loss: 0.6380, Train Accuracy: 76.67% Validation Loss: 1.1154, Validation Accuracy: 62.04%\n",
            "Epoch 11/20, Train Loss: 0.5563, Train Accuracy: 79.45% Validation Loss: 1.0828, Validation Accuracy: 62.99%\n",
            "Epoch 12/20, Train Loss: 0.4982, Train Accuracy: 81.80% Validation Loss: 1.0832, Validation Accuracy: 64.88%\n",
            "Epoch 13/20, Train Loss: 0.4167, Train Accuracy: 85.09% Validation Loss: 1.2602, Validation Accuracy: 63.93%\n",
            "Epoch 14/20, Train Loss: 0.3970, Train Accuracy: 86.00% Validation Loss: 1.2604, Validation Accuracy: 62.57%\n",
            "Epoch 15/20, Train Loss: 0.3624, Train Accuracy: 86.85% Validation Loss: 1.2838, Validation Accuracy: 63.93%\n",
            "Epoch 16/20, Train Loss: 0.3515, Train Accuracy: 87.79% Validation Loss: 1.3887, Validation Accuracy: 63.51%\n",
            "Epoch 17/20, Train Loss: 0.3140, Train Accuracy: 88.46% Validation Loss: 1.3639, Validation Accuracy: 63.41%\n",
            "Epoch 18/20, Train Loss: 0.2652, Train Accuracy: 90.56% Validation Loss: 1.6884, Validation Accuracy: 59.62%\n",
            "Epoch 19/20, Train Loss: 0.2447, Train Accuracy: 91.41% Validation Loss: 1.4663, Validation Accuracy: 65.72%\n",
            "Epoch 20/20, Train Loss: 0.2334, Train Accuracy: 91.90% Validation Loss: 1.6003, Validation Accuracy: 63.83%\n"
          ]
        }
      ],
      "source": [
        "import torch\n",
        "import torch.nn as nn\n",
        "import torch.optim as optim\n",
        "\n",
        "# Model, loss function, and optimizer\n",
        "model = CustomCNN(x1, m1, x2, m2, x3, d, K)  # Define your model\n",
        "device = torch.device(\"cuda\" if torch.cuda.is_available() else \"cpu\")\n",
        "model.to(device)\n",
        "\n",
        "criterion = nn.CrossEntropyLoss()  # Loss function for classification\n",
        "optimizer = optim.Adam(model.parameters(), lr=0.001)  # Adam optimizer\n",
        "\n",
        "# Training parameters\n",
        "num_epochs = 20  # Number of epochs\n",
        "train_losses = []\n",
        "val_losses = []\n",
        "\n",
        "# Training and validation loop\n",
        "for epoch in range(num_epochs):\n",
        "    # Training phase\n",
        "    model.train()\n",
        "    running_loss = 0.0\n",
        "    correct = 0\n",
        "    total = 0\n",
        "    for images, labels in train_loader:\n",
        "        images, labels = images.to(device), labels.to(device)\n",
        "\n",
        "        optimizer.zero_grad()  # Clear gradients\n",
        "        outputs = model(images)  # Forward pass\n",
        "        loss = criterion(outputs, labels)  # Compute loss\n",
        "        loss.backward()  # Backward pass\n",
        "        optimizer.step()  # Update weights\n",
        "\n",
        "        running_loss += loss.item() * images.size(0)\n",
        "\n",
        "\n",
        "        # Train Accuracy\n",
        "        _, predicted = torch.max(outputs.data, 1)\n",
        "        total += labels.size(0)\n",
        "        correct += (predicted == labels).sum().item()\n",
        "\n",
        "    epoch_train_loss = running_loss / len(train_loader.dataset)\n",
        "    train_losses.append(epoch_train_loss)\n",
        "\n",
        "    # Calculate Train Accuracy as percentage\n",
        "    train_accuracy = 100 * correct / total\n",
        "\n",
        "    # Validation phase\n",
        "    model.eval()\n",
        "    val_loss = 0.0\n",
        "    correct = 0\n",
        "    total = 0\n",
        "    with torch.no_grad():\n",
        "        for images, labels in val_loader:\n",
        "            images, labels = images.to(device), labels.to(device)\n",
        "            outputs = model(images)\n",
        "            loss = criterion(outputs, labels)\n",
        "            val_loss += loss.item() * images.size(0)\n",
        "\n",
        "            # Accuracy\n",
        "            _, predicted = torch.max(outputs, 1)\n",
        "            total += labels.size(0)\n",
        "            correct += (predicted == labels).sum().item()\n",
        "\n",
        "    epoch_val_loss = val_loss / len(val_loader.dataset)\n",
        "    val_losses.append(epoch_val_loss)\n",
        "    val_accuracy = 100 * correct / total\n",
        "\n",
        "    print(f\"Epoch {epoch+1}/{num_epochs}, \"\n",
        "          f\"Train Loss: {epoch_train_loss:.4f}, \"\n",
        "          f\"Train Accuracy: {train_accuracy:.2f}%\",\n",
        "          f\"Validation Loss: {epoch_val_loss:.4f}, \"\n",
        "          f\"Validation Accuracy: {val_accuracy:.2f}%\")\n"
      ]
    },
    {
      "cell_type": "code",
      "execution_count": 9,
      "metadata": {
        "id": "6StKs4We05ir"
      },
      "outputs": [
        {
          "name": "stdout",
          "output_type": "stream",
          "text": [
            "Test Loss: 1.4534, Test Accuracy: 65.79%\n"
          ]
        }
      ],
      "source": [
        "# Testing phase\n",
        "model.eval()\n",
        "test_loss = 0.0\n",
        "correct = 0\n",
        "total = 0\n",
        "with torch.no_grad():\n",
        "    for images, labels in test_loader:\n",
        "        images, labels = images.to(device), labels.to(device)\n",
        "        outputs = model(images)\n",
        "        loss = criterion(outputs, labels)\n",
        "        test_loss += loss.item() * images.size(0)\n",
        "\n",
        "        _, predicted = torch.max(outputs, 1)\n",
        "        total += labels.size(0)\n",
        "        correct += (predicted == labels).sum().item()\n",
        "\n",
        "test_loss /= len(test_loader.dataset)\n",
        "test_accuracy = 100 * correct / total\n",
        "\n",
        "print(f\"Test Loss: {test_loss:.4f}, Test Accuracy: {test_accuracy:.2f}%\")\n"
      ]
    },
    {
      "cell_type": "code",
      "execution_count": 10,
      "metadata": {
        "id": "1gvQdy-6063o"
      },
      "outputs": [
        {
          "data": {
            "image/png": "[encoded data removed]",
            "text/plain": [
              "<Figure size 640x480 with 1 Axes>"
            ]
          },
          "metadata": {},
          "output_type": "display_data"
        }
      ],
      "source": [
        "import matplotlib.pyplot as plt\n",
        "\n",
        "plt.plot(range(1, num_epochs+1), train_losses, label='Training Loss')\n",
        "plt.plot(range(1, num_epochs+1), val_losses, label='Validation Loss')\n",
        "plt.xlabel('Epochs')\n",
        "plt.ylabel('Loss')\n",
        "plt.legend()\n",
        "plt.title('Training and Validation Loss')\n",
        "plt.show()\n"
      ]
    }
  ],
  "metadata": {
    "accelerator": "GPU",
    "colab": {
      "gpuType": "T4",
      "provenance": []
    },
    "kernelspec": {
      "display_name": "hmp",
      "language": "python",
      "name": "python3"
    },
    "language_info": {
      "codemirror_mode": {
        "name": "ipython",
        "version": 3
      },
      "file_extension": ".py",
      "mimetype": "text/x-python",
      "name": "python",
      "nbconvert_exporter": "python",
      "pygments_lexer": "ipython3",
      "version": "3.10.15"
    }
  },
  "nbformat": 4,
  "nbformat_minor": 0
}
